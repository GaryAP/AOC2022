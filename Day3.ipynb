{
 "cells": [
  {
   "cell_type": "code",
   "execution_count": 123,
   "id": "85db1218",
   "metadata": {},
   "outputs": [],
   "source": [
    "import string\n",
    "from itertools import count\n",
    "iteratorL =(count(start = 1, step = 1))\n",
    "iteratorU =(count(start = 27, step = 1))\n",
    "eeeeHelp = [['ZTmtZvZLTFNLMQMNRvZncdcHwcScJvcdHnVfwV'],['zqjqrzqjCqrjtqWhqChqrznhcfdfVnVSVgcffcgJcSgd'],['rtDGpzjjqjlrGsWqBWFRsbTPFQMTbRNRFmbs'],['FFlnlnVlmQqcBVhBRrSrGSwVdRJbztSt'],['NPPNsffWfNztRZSJNG'],['WpgpTTHDpgTDDpMLPGgMHslmBmmHcBQnFmcqhmnjlqQm'],['VlVNLlPQhtnDRPnP'],['QgqTffzZqgvgzWmqqZmGcDthtRFvnnFnhJtJJDDt'],['WGTBzSqBQTQmZBWHswpNbswLbSNCNl'],['PFzFQDdLjMzzQDhnDNmwZmqwRsmRRmMVNM'],['GtSbbtlttvvtBvtHBmqqNqVVwsVgCmRw'],['brlvctHfrlrqvGvcTpjDdFnLDhdfjLhQpn'],['fTqzgFrcmzTrTNgMzFzTrgtbMtVMVPSLVbvSStRttPVV'],['lsHnlQhplQpsHhlDJsswNwZPZZVNwvnSZSVvVS'],['BJpsGWhWQQHdGHlpWpfgrmqgNBmTTBqzTrzr'],['PLPPrDNHDBnrWNBmjDmjbqqgzjgjQC'],['GJpFwpvFFsJpwvwwGwJZJRptzdQSSZTmCjTQmTSQjjZSggQQ'],['ffwGGtJGCfLcNMNNfNLW'],['nlTzllGwlQHHGMSrrhQLcvbcghgcvL'],['fFNpttBRFFRNtJJnfNWmqbhhZrZrcjgpvLrvrvcvbr'],['JBftFFsVRWtNWRsmWtRfftGHGPDDCnTDHSCwzwVnwGSw'],['LsrZLbLmPSTZtPcc'],['zpnpljpdwhRpfNLlPWPtTPcnMWPcctTV'],['qlhNNjldqdpgqdfhjpphdsgmmrDBBJJQgHrmDHLQJb'],['ndDrsBbpqspHCjzVBCHjMj'],['LWFcQFQtVVdcCMHC'],['RLthwTWLTSLwTllRLLlLNlPpPGfrGnqDdGqsZqsZsZhb'],['jHnJLJrcBbrRHJpnLBBjdHbjfgvGwstwWwdsWWshfhFzFfhv'],['PZDQMNTMQwtgvGTGhf'],['lqlPPQZQVSQCPSCPDmLppjqRqHngLHjRgLnL'],['MfQrhdzNMfMPsNNmPmqPLCLCVLBnbP'],['WVtcVvJJVjvFZZmgGjnjLBjmnnHB'],['FFtcZRpWJcSDTwlVMhMDwrrDzM'],['bSMbrQGZwwqbrbGMdTQGMwQdfFBLDLHLHssDgsHHBJDsFfwL'],['lpPPCccvVPvccPzcWLDJFJBsBzJJHsqHjg'],['tnqlPlVlNvNZZSSrGGZb'],['NlBBBBBwmwcMgLwLVVLLLscHdnMDdbHJCbdvJbPdDDJHvn'],['ZRWQWSfGhtSjqZhffZhhRjtdvPFHvCJbFdCFFDdHJdPb'],['fpqGhQWWZRhfqRSqrpGllLcVLmscgrLwBmgCzN'],['wHHHwDNCzZwzZfpzwsswzfzvnvnMDMgMhMGGFGRVdMnvcF'],['mLtttqTPBtSJTSBQWlmcMvVdclnvhFggdGhRdn'],['QBLPSLQQWmLtTBtBSjZfsbwbHzpjGzHfpzzw'],['zDPBqBPqwzzsqlTzzPzqjttNbCPJVtPCbrvjvCZP'],['MFhMhGfFfGpWWpHhFfRpHjVNbDbJjVMjrVvVNtMtbt'],['gfRSmpggSFRgfGRphFGgfgBSBTqzSsdlTLqdsnsDBqLw'],['QTTdWZZZTrhCZrjhVt'],['SBJJNRRvvRpwwspNSpTPjCMVhhtCjGThjBjB'],['fJJpvRRwNRSwvzRzRvzSgSRNqFTFDbFmqncQTbdFfnbDQnLW'],['wSjwwjWhbhhjWjdqSVpqSndvMdmM'],['NTvPBrZgPPHDFrFHGvZHRBqVBpCQVRRdmpRppdqM'],['TgDHZPsNTWbbwsjtvw'],['HVRPRwJVppQNpGmvMvmqqq'],['WcttbWsWsdDdbFDSSWclZGvFLMvfvjfzNvLGzLmfqv'],['tglcmSldWlBQBThRQBhg'],['LDGGfPFLGsfFnGLfMzfJVccNzmcmwm'],['qggSRgtjgCRtdtNZCJMCcZwTZVcm'],['RBbHbbRRnLBDDrvN'],['pThhMtMtTsWspWTnGjpsVHPdjdjvHdgVvLDVVSjd'],['JQNrrwCFrSRLRVLnSN'],['JQcJFCfcnfQmrbblQqlthGqzpZpGTBMWTMqtst'],['DzVmzDDgsNdHHLGJhJppPPllqSgbql'],['jrBWjcQMCRchPShwSblpbW'],['ZjRrSCtnnrtBQTcrSZmGtGFFNDHmHVVmVtzz'],['GSbGbrTGRRScMlVFjfbqqjdF'],['tvDmZhtNtHDttBhCmHDJHNwlpjslMwfflvpqldsFpMlf'],['HdBhLDhJDLWWLDCSQGcrQPGccLTGcQ'],['tNzrCdJBrrtQdtgQdlQQtrnMZhMTqzHqqTFZZFqTHFMV'],['bwbsRDvfwfsfcfSFqMmqDqFVNMNVVH'],['PRvfbSjNvPWPlLllLJ'],['MjMRRNRMjZtGVGpBCMMCDV'],['vwfhFzhvcJQQwJlQSddzQwFWGqcDpCDqBqDTcGZTTVTCWG'],['dvFJzrfZJhddLNLPHsrtRbPr'],['BmbsFNBhszGgGtGl'],['MSHVwdSwZflGlcqqpM'],['QvwZCnnnSvZdCSWrNmDlPPBPDhPmjW'],['MDwpRzRwMzMsdVSjdMWWMQdW'],['gmlftnDtHnHHVWSWBjWjWgvW'],['HbtrhbbGRNDpbCDz'],['cjVGqQqVqBFhDtvB'],['ZnTTfTffZZmDhBtJZG'],['fNzbpzlHTlgHNzlRTlRNbHrWwrCwWSSdQddNjwVcjGSd'],['WWrPMhwhnjpSLCpDlSSW'],['sNGBGdmTbZNGsmbstNLZGZDBRSlqSRCfRSCqRRDDqCqp'],['NvvcGtsLdTNZmLTmdJPcnnMFjFMcrVJhMF'],['wMRQMSQZHznRsqRbWp'],['ddgDDhfDrrDdjthHmdHrzpbVCVWFpfVqCWpWqpFs'],['hdvNdHtjMLJZvJwM'],['nWzZtWzHzZWgQHMNLDMDfDBfQbdD'],['MCPmRGGhqdmNjbDN'],['FRPlMlRChCvFggWZsHsZHn'],['ZGhhjdgwgcZHsPnRnSnbWscn'],['tltlfMQQQftDFJpMQJsWJWJsnWBnRSBbrBWP'],['lfLDpQMFMNfLjGjPPgZzwh'],['HcmvWcqnHLLPDzPPHM'],['MGGSfdJRdCglfrLjrjrLzLPzlF'],['CsgRgfwgdCwhsssJBBwvcnQnQNMvQtQm'],['nrVbwgnSTSgSnrZpjpWWqmWNHlqqpV'],['BcBPhSdsDlHNtNlJNP'],['RLFCQLQRRsBDDcRdGDddhCRDfwzvSCnzrbfrMfMgznwwfbZv'],['HJLzLNwBNzNJLzBJztRGzQVnDgwsjbgwssZwnDZbDQ'],['PhvlSvvPfMRlDbDsggbSjQSg'],['mFfhMlMrfchvPPpFTPvMvPzLBHWRHJNtzJGzzHpzBtCC'],['FLsgSLzLswdFgLBbWZnJDWHcmZnnBjHM'],['rpbrrqfqpvCbqqQQvvpClblRDHmjmmjJJZZnWMJmmJmmcRMc'],['qTppQvCfhzSVVTzbdL'],['ThTJtlqfDrDtffwqRCFCCnLwdnmpzRdF'],['WPQSSFsGMgQZWvFQgZgZQcCdmmzLMLCpNzCCddmLzdzm'],['cvVPGPQQGsZsgGPjVFccbHhThJHhDqfhDDjHqDrr'],['CgnCCnPMnMtGHDbMFQ'],['zLpwpRTwwRwhRchHwmqmGvvGbqmTmNQqvq'],['sHdhzlwrRVrdLzRrprrfjgfjVBnBCfSBZZgPfJ'],['SPMdWwWPrZwdrrWrSPLFDfgbQDfwDFfFglDQ'],['qLGBtGLpjzqmvQbvvpDvfFpR'],['jhLqqHBLGjtLqSZCssSTZZMshP'],['MhJCpPDpRRFRzQQNNqbcZjNZmVhjNm'],['LLSlLnGDmNqLbNjb'],['sfBngrBSTTSnSGHlTsHBGsBpFFdRdQPDCFPWRMzzdQWM'],['ZQtmgtWfPcgPgcsb'],['pvMhFThpHVTvPbcFcFJLJDsd'],['MTVHchVVHjHHTcpjMVBjjnQnGqQZnlqBmrWQQBffQQ'],['HfcRNJpJfhCmpGSqqGNjsjBnQl'],['tTdPwwtLTrrTVPSnQsbGPsnnlFllFQ'],['VvvTSTwWMrSZVwwrrmRmczJchHcHCZhRzD'],['wfRwhmLRnvrHqHhV'],['bJlBHlWlHMBPJzDlzMMJJSBlFnrGVrqspGGvpVGPVpGsVqvp'],['DWdStDMztCCHgZCtmZ'],['MHdsznVDDfcjcjDcdDjmMSCQwQpCpFCvqSZQqFzQpQ'],['lhJnLJJnTNrWTRqvqqPrFwZvwqQp'],['NghhtJBtnWLRTNjmcMDtjdsMfGDH'],['jgsvPffVmHfDqPSrNwnQwnwNhSvw'],['PZbGbCdcGdRCGtntQLQQLLwtpLNw'],['RbcPFBRFcdZBBJDBmTHjsD'],['dTTFJdzhmmmQpzVz'],['jtNLcctGGjtfrnVMsNQNQVVWnv'],['GcrcrfLtDggLftDFhZFdJFHJBVFBgZ'],['TTbqTgqCqZCrwmhQnnmrgh'],['MhpfsMLhfmrznLrQrF'],['RsStRMtjpHMfDtWsWsNDppsqlZqBlhNlbcNdTPClPqcvBP'],['lRhZPgnpRGZlSrmsLSvSzLVl'],['wwHdHCfDQCJHdwdDMdHCcDsLmNVvzVsWrcVNcVzLbrLz'],['dMCCwCtJdwDQJMtjhnvhpPhRZBhR'],['pBqMZfDffmBnvnNmPt'],['rhwLHCChrLPCMNWMCNmW'],['GSMVRSVwHLMRJDQJTZlJZR'],['sfstzPGRRBSngMfQLNNqgWLQLZZNgq'],['scVDjjjCDTVhHlDhHdvvjwjHrZmWQmJmrJJWqNqLJbrcQqZq'],['VvHlVHldTjvhpVplhVThhwjlPFSzPfGzpGBnsRffRRBPPGGF'],['WNFNfnWTSLSJTnWShTvVZCnvrdPrZvddVCrt'],['QwsMjppcpHCPdHsvPZ'],['lcwMGgpcGbzQpMgQwbDjDQZSJTRfShffWNJSSNFFbhSb'],['JDNgTgqDTggQbQGbZDWbJmVJrPVfPjlPfPwlljJC'],['FZzHFSznZZtptHzcSmCVrwfPVcwwVrCcdm'],['nMSStvnZFSHpLLtBtMzHnMWQvNhgDgGNRGNhgqRWTgqg'],['SJcrhvbBLBLrDpllvnwHQRnllHnQ'],['ffsjfMMZfVdCCgCfgTzmzslRtwFwFtTnqqHTJRQnqRqq'],['CVPgmdggVjCJSrhrbrPrrSLW'],['LPtcLtgddLMRRCMRpTBRrZnppvvGRvBw'],['WNNJjDjqSjJSqWqzNqzlSlBTGGFvrppSrwTFpn'],['qbNDWNNHbJqVtctwVmsfLCLP'],['FvSSLMqgvVSQjQfgwpwWpj'],['BthszRPRRNbNtzmHRbHNRNPfwJGcsswWQpffJpfsJcQFwJ'],['bBtzPmRrbBRHtNCzPhqdCLFMLSSvdnvCTnML'],['VPHWJPDjVLDDjDSFDJhgdnNGdbblzTzNjlnNbl'],['ZprsRZMQwwmGZsvtQZgTfggqnbfdTzrbqlTd'],['GZMtsscmsRZswwBQHBhDDJJPPCPWSWCJ'],['mNDNNmmVMSVgGgGGqsqGLhQqsLGhLq'],['nZBTZpJPhCpnnrsqbbcfczJfFccz'],['HpBZZRPRHjnPPjrHnRtCZnBdShDVlMDNDgVmtmDdVDWSdN'],['tBftztmztGBBCBSGHBmhvHHcchbshhThpbLJHJ'],['wwzMrrMnQdldVdMvJTcLNnphphbLJv'],['ZzwPVrWQlwrdStGGCWqDSSGW'],['QwfrQPvhwPfzQrvWWpQpvVGGTDGsjbgNNcbfsGTsDFgG'],['CtddSdZMRRdnJhRnHtZtlRMbGGDjDgggjNTZDNgTGFgGjc'],['mdmdCnHhVWmLmwwL'],['zLcWSWFcPJLWrWLSZrJLjVjHtjVsrdtstHdtVQgg'],['nChlwwnmhlCNqhhjHMgDjVVdwMjdtd'],['CNnBmNNThhhdhCdlBGGlGvNpcJbJLSbcZzcFJzpJTWPbzc'],['LdPZTPVpLCVTtCNsNsfFnlDC'],['SMwqcqcWQMbMhWQzBnsNfsFwrnnNNlrs'],['WMMWhvQRNNNjvLgZ'],['DWFGzrtfsZHZZMLt'],['pNwNzNCNTpppmnvNMTLVjHLBLLjMRTLH'],['PPdlPmJJNNClDdcdDDfWhzrW'],['nSJVSHQQnwLThnhrML'],['ddsjfRdGZjmGjRTwwTZhwrMwWwtb'],['qCdfRdMmgssPfjsdjdPspBzQpScSSCBpzNBQzcQz'],['fJnmRMJrlrmRmTRmbqssWVdqNVQdswdNNb'],['GZggFHGhHHgHSFvtHPPPsfwgwNsVqjqNpNjNNssN'],['PPSPDDBPBmBMlLfmLr'],['BdqdCBqqCVPVTZBrlJcTcTJTcfcbwwmcgv'],['WjGGLzLMhpWQmRGhpHfbhcDhHHHhgcsbJD'],['tQzSGjWRzWBntntrZmVB'],['clfLQLgfzfTLDMwNrNrrNDGCGG'],['tmbpFtBvvmvdQQdFQwMJCG'],['SnbtnqnSbnQQsBqzgLgVsLZTLTPfVg'],['QnQBQQBVzqqzpmfgBpnqSDFPjhhWsFVhlsFFsDstFs'],['MGGrTHcvRTTrrrCDpjvWtFPlFlsvjp'],['bZbpTpJJBBQmBmJf'],['dNVgDdVtPcNPhgTLPLpTPlnTHHRn'],['WrvjvwjWwfwWjGJsrwBjQJjTQLbnSTTmpTRQSTClHTbLmn'],['JqWWGvBJBwGJfJJGvwqZZddFtDFhgDqZhHNM'],['VwJcNgbfvfJbfcmGLZfPhZLfZGTDhP'],['CnnrlBlprsBnzQFntnZLqDhZZqThWGtWWSPL'],['FllFdCjzlsCzjJNJGGJwHHVg'],['fTbVBmNJCJRVbTmbfJFHsDjQHDHQjnQRsvDn'],['cLWcrGtttddMPhrPhPtPrtzsnSQQBvHjFpFSpDHsMjnvjD'],['PrPgPdhGWLrrqgdqcVCffbNblBwfVmwqwC'],['gmBfbmlbBDqrdfrDcJ'],['PwVWrQphQWWhQsJFcMPqzDdcJq'],['QWCSSHpSQWCttQpCRCHNSlZBtrmBZTjvGgZjmBZjBn'],['JrnhMPvtVtPVHJGrBrQwTmQmRGGB'],['pSSZCFClCbbSLbljZlSlFFszzBwcZNwTzQNDmBwGTBNTBz'],['ldsCCjpFjCqdLgsFjpsLFQgtnfqtJvnMtnvhWnHHMnnVWV'],['hzNHzHjWNzwHjjhprpGvGgvGvvpv'],['PLBVVRPDLdrgCdMrdrdC'],['FmBTqTmLPrsFqTBDcTTVtNNJztqWQNQtWWtJqNNz'],['fFffFvFBgHQWHdvfGglBWbqbPSSbSwVntPhZwwbS'],['jJCMzNMCjNCLNMjjphPSPqhbqnwPZLSqZh'],['rNpJJDzpcNMzzdBnGcQTccBvgv'],['FRFMwsrzVtwstgbCHHJJPgNb'],['hfZGhZDnnTTHTCCNzJjH'],['hppDvznmZphZQVFQwFVWlRqFls'],['jrjrgdHdFBZsBlcCGghWNgpgbCCp'],['QwJJqQQMLwPTwLMMwzvzwwzhCWbvcNcCChWpchWbNGfFff'],['qqFQJTmwJSPjZsrlnBjdHm'],['QfffRppWfHpQSrWVpSGmGMMccSjBjmmGmc'],['qdzLvbwzwdsWwnFdBBcBhMjMDvBBcBhc'],['bPdZPqddqzFsZVRptZZQHVWNpN'],['BzBQQHNjTSzzJDDFZFgJDJ'],['qLvCnLpfCpqCnLJhntRglFncDrGrllmZFZlDrc'],['JpqvfhRhLddfpbbtsdJWjHSwHHTNSQNPTVHQTb'],['qVQCCVlQZWgHZMqgqWlrtScFwrmtmcJqSSsSJS'],['MzdnddpNLzhRpzbzNPPBbPScjcnmrwSFjSjSJFtrwjcF'],['ddTzRMPLdLbvhBRdLWGQClVVCWQZQDTGGf'],['DHHTsldDNdPnVDCRDCNHllHwcMpprSMpRmphhRWhrhmzSS'],['qJLBqQLvJLQgftgPjJrhrMMWSmWMmMrrSqrc'],['FjfFftgLBjJPBLQZGvvZtNClnTTNGCdHTbCCNsnslH'],['jHHNsNqhjsShsshdRRCDMfMbCWHBrGGC'],['TJQFmnpgmTpBDCgCMCDZCGDC'],['FwpQzwQTmVvwTJmFJzTcQSdhBNztNPNjSlqLhBNhSh'],['vBCfSDcRMfRcRHSRRZZtPwrWWNtdSmrNVGSdwm'],['gbLnTzqTbjhGqFzgWrtttQtrPQTtNPmP'],['zbhjzglgzzlBGcsflsCl'],['jNHDNNHjVGVDNQFDTQSFZzDQTd'],['vvLwhbnpvPPgClwnfFTmTZQgffFFtTfc'],['LrhrLvwrnJvhCHVVRZNMjsRJVB'],['ShfcBWfvdhhJBBVwCJjHTRNwRVNC'],['qQzlDqMDDDslPqGVLTNZVpPwTRZZpV'],['bgbDbsqzsDTcfrgFFdgg'],['vlRHvvHwvMMMTTlvjmRtBjSJmSnDnpdrpSSrJJnDQrLp'],['cPfCgZZzNzzcGhNszcTPNZLrnVSJpJhDrrhSSQSpDDQn'],['FbTgbGcgNgcFbPFHMqvjjRtjRWvFvt'],['fZTnqfFFDNglcjdjZcfLGQJBwrGGQwbGQTBBJz'],['VhvfvsPpWRChmphvRGBbBLGhSbLrBQBSwb'],['pCsCsHvsstPsfRMMMtmDqFjngdFZqDHFnNFFjl'],['PVVwffMlfGWMDDSwfDwVpRpsZRjBHgpSsjJSpBSp'],['TdnFbqTFdmbjctcqcbRBZtJJZgsBzBBzvgHJ'],['bNmbcqnnbNFLChCVCfjDfWlMjVDPCr'],['JBLLjBQccLLJhcBDDlSrdFDsVhrVsR'],['HgNWCgqWGbvCRRZvGWvZmszsSlrWdSdFrWzSldDF'],['qvGCZGHggRNHvGTgvLnBjpjjPJwTPjLcJj'],['GCGwQrwBZMZdGVdLzbqbbp'],['TRfTTCtgcDmhtDmsTDVSbvpLdNpzNVRqVdVL'],['CfDJjscgTcsjfhtFZljPZWZMWPlZjQ'],['WsrjjfRfjjZjwjWjBpDpVpVhMBsMMSBT'],['JgmqHnCHHPCCtCJgSZMgZppDTgzvzZMz'],['HCGCGqqqCtmnHnqLFHWjlFrWRRbfjZccNWrR'],['BJBfSfPLPvdhvrbbvpDsHgDTzgpdzgZpgN'],['cVcmRnCWCqGngHpZsZsTsqNN'],['jmGCVwWjjnWFMjGwcwmrLJbBJPbLSrPPTbFBTr'],['SPZmmtlmqjZlZMwhlrtggqGGcCLCpfGLgqdCqF'],['FBBVDVTVDJfgcddLCDdp'],['zzVHvVNTbWJJTTRbVWBFJbWHmwmSPlMjPSShjlhMhhrrml'],['GJZJZTsnhsDJtVZdtsZJZrBCQpLjQgBnrQgjCjQQQj'],['RPSfqcRShHbFcPSfBqLLprBCwrQQQCqg'],['zPzPRHbFPcRRRHPclMhSfvfZsJZVTTZsJNVMGWGVdGTWWD'],['lCZrCLWCwVllGzWPPBMTFpsbGdsTpsbNMgFb'],['RDjtjHcHjcHctDRtjnhtnHTgMqTMqhTbdbdZbgFqZdMN'],['vfDmvfjtmvtcHmjZfSRZHQzBLrVLCJLJLfJBPzVJlwPw'],['JMTHVZMWNSCwCwMS'],['nsddQbDCnQQdDBPdCQCSvwpDvwffhfSvpmppvp'],['BssqBFtqRHgTqVRC'],['cWTTthtrgrzpCdCddtpz'],['SSSLNJLGLSLfCJfJFQCJzQ'],['swMPMZVMMSlMSZMqVSSHznzcqgzWTHgTnhbnrr'],['RJjjgMjWShPqchtbVBPV'],['DDddwCnZMHLLvDnfLrvvbVbbBtpwVBVPwtVpbcbb'],['zrvnvLrlZCHrfZZLffHZHHTsTmsQgFQSFTMjjQlFTRmR'],['zhTTMLRVTzLbVqwVRJgDQQsSCgCDNgsZCpqp'],['rrmrBmmWrWnHjWnGWrnGnhDHSQgNSpQsCgSNgtNtDDHZ'],['fBrGPGmGPBcTMfLhJVTc'],['TbTCjTBSbCncHsDZDZPhZbzv'],['rMwplFdlWWJMJzhhpGtHtvHSSP'],['fMMfwWdWrNfJNdlVgMcTLTmLffjTqnLScCjL'],['SwhTllwJDwqqBWLBbNtfhjBB'],['mvllZMmRMZGFZRfctLWtWttzfNLR'],['MGvHMCGpVnFGlgvVFFnpnGmmsHrDJJdSsqPqJSqDJJdTTDqD'],['QTTcqJZJhHSpShhFpFzjDDwwsFzpdg'],['NBMnBvmBPvwrqvgvvqgD'],['bNNGmWmbbClQTQRqchhQbf']]\n",
    "\n",
    "alphabetdictlower = dict(zip(string.ascii_lowercase, (next(iteratorL) for _ in range(26))))\n",
    "alphabetdictupper = dict(zip(string.ascii_uppercase, (next(iteratorU) for _ in range(26))))"
   ]
  },
  {
   "cell_type": "code",
   "execution_count": 124,
   "id": "81704a52",
   "metadata": {},
   "outputs": [
    {
     "name": "stdout",
     "output_type": "stream",
     "text": [
      "7716\n"
     ]
    }
   ],
   "source": [
    "totesadorbs = 0\n",
    "for x in eeeeHelp:\n",
    "    for moreletters in x:\n",
    "        firsthalf = slice(0, len(moreletters)//2)\n",
    "        secondhalf = slice(len(moreletters)//2, len(moreletters))\n",
    "        for y in moreletters:\n",
    "            if y in moreletters[firsthalf] and y in moreletters[secondhalf]:\n",
    "                if y.isupper() is True:\n",
    "                    totesadorbs += alphabetdictupper.get(y)\n",
    "                else:\n",
    "                    totesadorbs += alphabetdictlower.get(y)\n",
    "                break\n",
    "print(totesadorbs)"
   ]
  },
  {
   "cell_type": "code",
   "execution_count": 125,
   "id": "fcafd799",
   "metadata": {},
   "outputs": [
    {
     "name": "stdout",
     "output_type": "stream",
     "text": [
      "2973\n"
     ]
    }
   ],
   "source": [
    "teehee = 0\n",
    "for x in range(int(len(eeeeHelp)/3)):\n",
    "    f = eeeeHelp[0]\n",
    "    s = eeeeHelp[1]\n",
    "    t = eeeeHelp[2]\n",
    "    for y in f:\n",
    "        for w in y:\n",
    "            if w in f[0] and w in s[0] and w in t[0]:\n",
    "                if w.isupper() is True:\n",
    "                    teehee += alphabetdictupper.get(w)\n",
    "                else:\n",
    "                    teehee += alphabetdictlower.get(w)\n",
    "                break\n",
    "    eeeeHelp.remove(f)\n",
    "    eeeeHelp.remove(s)\n",
    "    eeeeHelp.remove(t)\n",
    "print(teehee)"
   ]
  }
 ],
 "metadata": {
  "kernelspec": {
   "display_name": "Python 3",
   "language": "python",
   "name": "python3"
  },
  "language_info": {
   "codemirror_mode": {
    "name": "ipython",
    "version": 3
   },
   "file_extension": ".py",
   "mimetype": "text/x-python",
   "name": "python",
   "nbconvert_exporter": "python",
   "pygments_lexer": "ipython3",
   "version": "3.7.8"
  }
 },
 "nbformat": 4,
 "nbformat_minor": 5
}
